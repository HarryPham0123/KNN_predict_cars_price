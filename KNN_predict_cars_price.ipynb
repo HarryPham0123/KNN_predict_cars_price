{
 "cells": [
  {
   "cell_type": "code",
   "execution_count": 1,
   "metadata": {},
   "outputs": [],
   "source": [
    "import pandas as pd\n",
    "import numpy as np"
   ]
  },
  {
   "cell_type": "markdown",
   "metadata": {},
   "source": [
    "## Get a sense with data"
   ]
  },
  {
   "cell_type": "markdown",
   "metadata": {},
   "source": [
    "- Link dataset: https://bit.ly/3snYPNf"
   ]
  },
  {
   "cell_type": "code",
   "execution_count": 2,
   "metadata": {},
   "outputs": [],
   "source": [
    "# Dataset don't contain header\n",
    "columns = [\"symboling\",\"normalized-losses\",\"make\",\"fuel-type\",\"aspiration\", \"num-of-doors\",\"body-style\",\n",
    "           \"drive-wheels\",\"engine-location\", \"wheel-base\",\"length\",\"width\",\"height\",\"curb-weight\",\n",
    "           \"engine-type\", \"num-of-cylinders\",\"engine-size\",\"fuel-system\",\"bore\",\"stroke\", \"compression-rate\",\n",
    "           \"horsepower\",\"peak-rpm\",\"city-mpg\",\"highway-mpg\",\"price\"]\n",
    "cars = pd.read_csv(\"imports-85.data\", encoding=\"utf8\", names=columns)"
   ]
  },
  {
   "cell_type": "code",
   "execution_count": 3,
   "metadata": {},
   "outputs": [
    {
     "data": {
      "text/html": [
       "<div>\n",
       "<style scoped>\n",
       "    .dataframe tbody tr th:only-of-type {\n",
       "        vertical-align: middle;\n",
       "    }\n",
       "\n",
       "    .dataframe tbody tr th {\n",
       "        vertical-align: top;\n",
       "    }\n",
       "\n",
       "    .dataframe thead th {\n",
       "        text-align: right;\n",
       "    }\n",
       "</style>\n",
       "<table border=\"1\" class=\"dataframe\">\n",
       "  <thead>\n",
       "    <tr style=\"text-align: right;\">\n",
       "      <th></th>\n",
       "      <th>symboling</th>\n",
       "      <th>normalized-losses</th>\n",
       "      <th>make</th>\n",
       "      <th>fuel-type</th>\n",
       "      <th>aspiration</th>\n",
       "      <th>num-of-doors</th>\n",
       "      <th>body-style</th>\n",
       "      <th>drive-wheels</th>\n",
       "      <th>engine-location</th>\n",
       "      <th>wheel-base</th>\n",
       "      <th>...</th>\n",
       "      <th>engine-size</th>\n",
       "      <th>fuel-system</th>\n",
       "      <th>bore</th>\n",
       "      <th>stroke</th>\n",
       "      <th>compression-rate</th>\n",
       "      <th>horsepower</th>\n",
       "      <th>peak-rpm</th>\n",
       "      <th>city-mpg</th>\n",
       "      <th>highway-mpg</th>\n",
       "      <th>price</th>\n",
       "    </tr>\n",
       "  </thead>\n",
       "  <tbody>\n",
       "    <tr>\n",
       "      <th>0</th>\n",
       "      <td>3</td>\n",
       "      <td>?</td>\n",
       "      <td>alfa-romero</td>\n",
       "      <td>gas</td>\n",
       "      <td>std</td>\n",
       "      <td>two</td>\n",
       "      <td>convertible</td>\n",
       "      <td>rwd</td>\n",
       "      <td>front</td>\n",
       "      <td>88.6</td>\n",
       "      <td>...</td>\n",
       "      <td>130</td>\n",
       "      <td>mpfi</td>\n",
       "      <td>3.47</td>\n",
       "      <td>2.68</td>\n",
       "      <td>9.0</td>\n",
       "      <td>111</td>\n",
       "      <td>5000</td>\n",
       "      <td>21</td>\n",
       "      <td>27</td>\n",
       "      <td>13495</td>\n",
       "    </tr>\n",
       "    <tr>\n",
       "      <th>1</th>\n",
       "      <td>3</td>\n",
       "      <td>?</td>\n",
       "      <td>alfa-romero</td>\n",
       "      <td>gas</td>\n",
       "      <td>std</td>\n",
       "      <td>two</td>\n",
       "      <td>convertible</td>\n",
       "      <td>rwd</td>\n",
       "      <td>front</td>\n",
       "      <td>88.6</td>\n",
       "      <td>...</td>\n",
       "      <td>130</td>\n",
       "      <td>mpfi</td>\n",
       "      <td>3.47</td>\n",
       "      <td>2.68</td>\n",
       "      <td>9.0</td>\n",
       "      <td>111</td>\n",
       "      <td>5000</td>\n",
       "      <td>21</td>\n",
       "      <td>27</td>\n",
       "      <td>16500</td>\n",
       "    </tr>\n",
       "    <tr>\n",
       "      <th>2</th>\n",
       "      <td>1</td>\n",
       "      <td>?</td>\n",
       "      <td>alfa-romero</td>\n",
       "      <td>gas</td>\n",
       "      <td>std</td>\n",
       "      <td>two</td>\n",
       "      <td>hatchback</td>\n",
       "      <td>rwd</td>\n",
       "      <td>front</td>\n",
       "      <td>94.5</td>\n",
       "      <td>...</td>\n",
       "      <td>152</td>\n",
       "      <td>mpfi</td>\n",
       "      <td>2.68</td>\n",
       "      <td>3.47</td>\n",
       "      <td>9.0</td>\n",
       "      <td>154</td>\n",
       "      <td>5000</td>\n",
       "      <td>19</td>\n",
       "      <td>26</td>\n",
       "      <td>16500</td>\n",
       "    </tr>\n",
       "    <tr>\n",
       "      <th>3</th>\n",
       "      <td>2</td>\n",
       "      <td>164</td>\n",
       "      <td>audi</td>\n",
       "      <td>gas</td>\n",
       "      <td>std</td>\n",
       "      <td>four</td>\n",
       "      <td>sedan</td>\n",
       "      <td>fwd</td>\n",
       "      <td>front</td>\n",
       "      <td>99.8</td>\n",
       "      <td>...</td>\n",
       "      <td>109</td>\n",
       "      <td>mpfi</td>\n",
       "      <td>3.19</td>\n",
       "      <td>3.40</td>\n",
       "      <td>10.0</td>\n",
       "      <td>102</td>\n",
       "      <td>5500</td>\n",
       "      <td>24</td>\n",
       "      <td>30</td>\n",
       "      <td>13950</td>\n",
       "    </tr>\n",
       "    <tr>\n",
       "      <th>4</th>\n",
       "      <td>2</td>\n",
       "      <td>164</td>\n",
       "      <td>audi</td>\n",
       "      <td>gas</td>\n",
       "      <td>std</td>\n",
       "      <td>four</td>\n",
       "      <td>sedan</td>\n",
       "      <td>4wd</td>\n",
       "      <td>front</td>\n",
       "      <td>99.4</td>\n",
       "      <td>...</td>\n",
       "      <td>136</td>\n",
       "      <td>mpfi</td>\n",
       "      <td>3.19</td>\n",
       "      <td>3.40</td>\n",
       "      <td>8.0</td>\n",
       "      <td>115</td>\n",
       "      <td>5500</td>\n",
       "      <td>18</td>\n",
       "      <td>22</td>\n",
       "      <td>17450</td>\n",
       "    </tr>\n",
       "  </tbody>\n",
       "</table>\n",
       "<p>5 rows × 26 columns</p>\n",
       "</div>"
      ],
      "text/plain": [
       "   symboling normalized-losses         make fuel-type aspiration num-of-doors  \\\n",
       "0          3                 ?  alfa-romero       gas        std          two   \n",
       "1          3                 ?  alfa-romero       gas        std          two   \n",
       "2          1                 ?  alfa-romero       gas        std          two   \n",
       "3          2               164         audi       gas        std         four   \n",
       "4          2               164         audi       gas        std         four   \n",
       "\n",
       "    body-style drive-wheels engine-location  wheel-base  ...  engine-size  \\\n",
       "0  convertible          rwd           front        88.6  ...          130   \n",
       "1  convertible          rwd           front        88.6  ...          130   \n",
       "2    hatchback          rwd           front        94.5  ...          152   \n",
       "3        sedan          fwd           front        99.8  ...          109   \n",
       "4        sedan          4wd           front        99.4  ...          136   \n",
       "\n",
       "   fuel-system  bore  stroke compression-rate horsepower  peak-rpm city-mpg  \\\n",
       "0         mpfi  3.47    2.68              9.0        111      5000       21   \n",
       "1         mpfi  3.47    2.68              9.0        111      5000       21   \n",
       "2         mpfi  2.68    3.47              9.0        154      5000       19   \n",
       "3         mpfi  3.19    3.40             10.0        102      5500       24   \n",
       "4         mpfi  3.19    3.40              8.0        115      5500       18   \n",
       "\n",
       "  highway-mpg  price  \n",
       "0          27  13495  \n",
       "1          27  16500  \n",
       "2          26  16500  \n",
       "3          30  13950  \n",
       "4          22  17450  \n",
       "\n",
       "[5 rows x 26 columns]"
      ]
     },
     "execution_count": 3,
     "metadata": {},
     "output_type": "execute_result"
    }
   ],
   "source": [
    "cars.head()"
   ]
  },
  {
   "cell_type": "code",
   "execution_count": 4,
   "metadata": {},
   "outputs": [],
   "source": [
    "# Select only the columns with continuous values\n",
    "continuous_values_cols = ['normalized-losses', 'wheel-base', 'length', 'width', 'height', 'curb-weight', 'engine-size', 'bore', 'stroke', 'compression-rate', 'horsepower', 'peak-rpm', 'city-mpg', 'highway-mpg', 'price']\n",
    "numeric_cols = cars[continuous_values_cols]"
   ]
  },
  {
   "cell_type": "code",
   "execution_count": 5,
   "metadata": {},
   "outputs": [
    {
     "data": {
      "text/html": [
       "<div>\n",
       "<style scoped>\n",
       "    .dataframe tbody tr th:only-of-type {\n",
       "        vertical-align: middle;\n",
       "    }\n",
       "\n",
       "    .dataframe tbody tr th {\n",
       "        vertical-align: top;\n",
       "    }\n",
       "\n",
       "    .dataframe thead th {\n",
       "        text-align: right;\n",
       "    }\n",
       "</style>\n",
       "<table border=\"1\" class=\"dataframe\">\n",
       "  <thead>\n",
       "    <tr style=\"text-align: right;\">\n",
       "      <th></th>\n",
       "      <th>normalized-losses</th>\n",
       "      <th>wheel-base</th>\n",
       "      <th>length</th>\n",
       "      <th>width</th>\n",
       "      <th>height</th>\n",
       "      <th>curb-weight</th>\n",
       "      <th>engine-size</th>\n",
       "      <th>bore</th>\n",
       "      <th>stroke</th>\n",
       "      <th>compression-rate</th>\n",
       "      <th>horsepower</th>\n",
       "      <th>peak-rpm</th>\n",
       "      <th>city-mpg</th>\n",
       "      <th>highway-mpg</th>\n",
       "      <th>price</th>\n",
       "    </tr>\n",
       "  </thead>\n",
       "  <tbody>\n",
       "    <tr>\n",
       "      <th>0</th>\n",
       "      <td>?</td>\n",
       "      <td>88.6</td>\n",
       "      <td>168.8</td>\n",
       "      <td>64.1</td>\n",
       "      <td>48.8</td>\n",
       "      <td>2548</td>\n",
       "      <td>130</td>\n",
       "      <td>3.47</td>\n",
       "      <td>2.68</td>\n",
       "      <td>9.0</td>\n",
       "      <td>111</td>\n",
       "      <td>5000</td>\n",
       "      <td>21</td>\n",
       "      <td>27</td>\n",
       "      <td>13495</td>\n",
       "    </tr>\n",
       "    <tr>\n",
       "      <th>1</th>\n",
       "      <td>?</td>\n",
       "      <td>88.6</td>\n",
       "      <td>168.8</td>\n",
       "      <td>64.1</td>\n",
       "      <td>48.8</td>\n",
       "      <td>2548</td>\n",
       "      <td>130</td>\n",
       "      <td>3.47</td>\n",
       "      <td>2.68</td>\n",
       "      <td>9.0</td>\n",
       "      <td>111</td>\n",
       "      <td>5000</td>\n",
       "      <td>21</td>\n",
       "      <td>27</td>\n",
       "      <td>16500</td>\n",
       "    </tr>\n",
       "    <tr>\n",
       "      <th>2</th>\n",
       "      <td>?</td>\n",
       "      <td>94.5</td>\n",
       "      <td>171.2</td>\n",
       "      <td>65.5</td>\n",
       "      <td>52.4</td>\n",
       "      <td>2823</td>\n",
       "      <td>152</td>\n",
       "      <td>2.68</td>\n",
       "      <td>3.47</td>\n",
       "      <td>9.0</td>\n",
       "      <td>154</td>\n",
       "      <td>5000</td>\n",
       "      <td>19</td>\n",
       "      <td>26</td>\n",
       "      <td>16500</td>\n",
       "    </tr>\n",
       "    <tr>\n",
       "      <th>3</th>\n",
       "      <td>164</td>\n",
       "      <td>99.8</td>\n",
       "      <td>176.6</td>\n",
       "      <td>66.2</td>\n",
       "      <td>54.3</td>\n",
       "      <td>2337</td>\n",
       "      <td>109</td>\n",
       "      <td>3.19</td>\n",
       "      <td>3.40</td>\n",
       "      <td>10.0</td>\n",
       "      <td>102</td>\n",
       "      <td>5500</td>\n",
       "      <td>24</td>\n",
       "      <td>30</td>\n",
       "      <td>13950</td>\n",
       "    </tr>\n",
       "    <tr>\n",
       "      <th>4</th>\n",
       "      <td>164</td>\n",
       "      <td>99.4</td>\n",
       "      <td>176.6</td>\n",
       "      <td>66.4</td>\n",
       "      <td>54.3</td>\n",
       "      <td>2824</td>\n",
       "      <td>136</td>\n",
       "      <td>3.19</td>\n",
       "      <td>3.40</td>\n",
       "      <td>8.0</td>\n",
       "      <td>115</td>\n",
       "      <td>5500</td>\n",
       "      <td>18</td>\n",
       "      <td>22</td>\n",
       "      <td>17450</td>\n",
       "    </tr>\n",
       "  </tbody>\n",
       "</table>\n",
       "</div>"
      ],
      "text/plain": [
       "  normalized-losses  wheel-base  length  width  height  curb-weight  \\\n",
       "0                 ?        88.6   168.8   64.1    48.8         2548   \n",
       "1                 ?        88.6   168.8   64.1    48.8         2548   \n",
       "2                 ?        94.5   171.2   65.5    52.4         2823   \n",
       "3               164        99.8   176.6   66.2    54.3         2337   \n",
       "4               164        99.4   176.6   66.4    54.3         2824   \n",
       "\n",
       "   engine-size  bore stroke  compression-rate horsepower peak-rpm  city-mpg  \\\n",
       "0          130  3.47   2.68               9.0        111     5000        21   \n",
       "1          130  3.47   2.68               9.0        111     5000        21   \n",
       "2          152  2.68   3.47               9.0        154     5000        19   \n",
       "3          109  3.19   3.40              10.0        102     5500        24   \n",
       "4          136  3.19   3.40               8.0        115     5500        18   \n",
       "\n",
       "   highway-mpg  price  \n",
       "0           27  13495  \n",
       "1           27  16500  \n",
       "2           26  16500  \n",
       "3           30  13950  \n",
       "4           22  17450  "
      ]
     },
     "execution_count": 5,
     "metadata": {},
     "output_type": "execute_result"
    }
   ],
   "source": [
    "numeric_cols.head(5)"
   ]
  },
  {
   "cell_type": "markdown",
   "metadata": {},
   "source": [
    "## Cleaning data"
   ]
  },
  {
   "cell_type": "markdown",
   "metadata": {},
   "source": [
    "### Dealing with NA values of all columns in dataframe"
   ]
  },
  {
   "cell_type": "markdown",
   "metadata": {},
   "source": [
    "There are totally 3 ways to handle missing values:\n",
    "- Replace missing values with the average values from that column\n",
    "- Drop rows entirely (especially when other columns with same rows also have missing values)\n",
    "- Drop columns entirely"
   ]
  },
  {
   "cell_type": "code",
   "execution_count": 6,
   "metadata": {},
   "outputs": [],
   "source": [
    "# Make a copy of dataset\n",
    "cars_cop = cars.copy()"
   ]
  },
  {
   "cell_type": "code",
   "execution_count": 7,
   "metadata": {},
   "outputs": [
    {
     "data": {
      "text/html": [
       "<div>\n",
       "<style scoped>\n",
       "    .dataframe tbody tr th:only-of-type {\n",
       "        vertical-align: middle;\n",
       "    }\n",
       "\n",
       "    .dataframe tbody tr th {\n",
       "        vertical-align: top;\n",
       "    }\n",
       "\n",
       "    .dataframe thead th {\n",
       "        text-align: right;\n",
       "    }\n",
       "</style>\n",
       "<table border=\"1\" class=\"dataframe\">\n",
       "  <thead>\n",
       "    <tr style=\"text-align: right;\">\n",
       "      <th></th>\n",
       "      <th>normalized-losses</th>\n",
       "      <th>wheel-base</th>\n",
       "      <th>length</th>\n",
       "      <th>width</th>\n",
       "      <th>height</th>\n",
       "      <th>curb-weight</th>\n",
       "      <th>engine-size</th>\n",
       "      <th>bore</th>\n",
       "      <th>stroke</th>\n",
       "      <th>compression-rate</th>\n",
       "      <th>horsepower</th>\n",
       "      <th>peak-rpm</th>\n",
       "      <th>city-mpg</th>\n",
       "      <th>highway-mpg</th>\n",
       "      <th>price</th>\n",
       "    </tr>\n",
       "  </thead>\n",
       "  <tbody>\n",
       "    <tr>\n",
       "      <th>0</th>\n",
       "      <td>NaN</td>\n",
       "      <td>88.6</td>\n",
       "      <td>168.8</td>\n",
       "      <td>64.1</td>\n",
       "      <td>48.8</td>\n",
       "      <td>2548</td>\n",
       "      <td>130</td>\n",
       "      <td>3.47</td>\n",
       "      <td>2.68</td>\n",
       "      <td>9.0</td>\n",
       "      <td>111</td>\n",
       "      <td>5000</td>\n",
       "      <td>21</td>\n",
       "      <td>27</td>\n",
       "      <td>13495</td>\n",
       "    </tr>\n",
       "    <tr>\n",
       "      <th>1</th>\n",
       "      <td>NaN</td>\n",
       "      <td>88.6</td>\n",
       "      <td>168.8</td>\n",
       "      <td>64.1</td>\n",
       "      <td>48.8</td>\n",
       "      <td>2548</td>\n",
       "      <td>130</td>\n",
       "      <td>3.47</td>\n",
       "      <td>2.68</td>\n",
       "      <td>9.0</td>\n",
       "      <td>111</td>\n",
       "      <td>5000</td>\n",
       "      <td>21</td>\n",
       "      <td>27</td>\n",
       "      <td>16500</td>\n",
       "    </tr>\n",
       "    <tr>\n",
       "      <th>2</th>\n",
       "      <td>NaN</td>\n",
       "      <td>94.5</td>\n",
       "      <td>171.2</td>\n",
       "      <td>65.5</td>\n",
       "      <td>52.4</td>\n",
       "      <td>2823</td>\n",
       "      <td>152</td>\n",
       "      <td>2.68</td>\n",
       "      <td>3.47</td>\n",
       "      <td>9.0</td>\n",
       "      <td>154</td>\n",
       "      <td>5000</td>\n",
       "      <td>19</td>\n",
       "      <td>26</td>\n",
       "      <td>16500</td>\n",
       "    </tr>\n",
       "    <tr>\n",
       "      <th>3</th>\n",
       "      <td>164</td>\n",
       "      <td>99.8</td>\n",
       "      <td>176.6</td>\n",
       "      <td>66.2</td>\n",
       "      <td>54.3</td>\n",
       "      <td>2337</td>\n",
       "      <td>109</td>\n",
       "      <td>3.19</td>\n",
       "      <td>3.40</td>\n",
       "      <td>10.0</td>\n",
       "      <td>102</td>\n",
       "      <td>5500</td>\n",
       "      <td>24</td>\n",
       "      <td>30</td>\n",
       "      <td>13950</td>\n",
       "    </tr>\n",
       "    <tr>\n",
       "      <th>4</th>\n",
       "      <td>164</td>\n",
       "      <td>99.4</td>\n",
       "      <td>176.6</td>\n",
       "      <td>66.4</td>\n",
       "      <td>54.3</td>\n",
       "      <td>2824</td>\n",
       "      <td>136</td>\n",
       "      <td>3.19</td>\n",
       "      <td>3.40</td>\n",
       "      <td>8.0</td>\n",
       "      <td>115</td>\n",
       "      <td>5500</td>\n",
       "      <td>18</td>\n",
       "      <td>22</td>\n",
       "      <td>17450</td>\n",
       "    </tr>\n",
       "  </tbody>\n",
       "</table>\n",
       "</div>"
      ],
      "text/plain": [
       "  normalized-losses  wheel-base  length  width  height  curb-weight  \\\n",
       "0               NaN        88.6   168.8   64.1    48.8         2548   \n",
       "1               NaN        88.6   168.8   64.1    48.8         2548   \n",
       "2               NaN        94.5   171.2   65.5    52.4         2823   \n",
       "3               164        99.8   176.6   66.2    54.3         2337   \n",
       "4               164        99.4   176.6   66.4    54.3         2824   \n",
       "\n",
       "   engine-size  bore stroke  compression-rate horsepower peak-rpm  city-mpg  \\\n",
       "0          130  3.47   2.68               9.0        111     5000        21   \n",
       "1          130  3.47   2.68               9.0        111     5000        21   \n",
       "2          152  2.68   3.47               9.0        154     5000        19   \n",
       "3          109  3.19   3.40              10.0        102     5500        24   \n",
       "4          136  3.19   3.40               8.0        115     5500        18   \n",
       "\n",
       "   highway-mpg  price  \n",
       "0           27  13495  \n",
       "1           27  16500  \n",
       "2           26  16500  \n",
       "3           30  13950  \n",
       "4           22  17450  "
      ]
     },
     "execution_count": 7,
     "metadata": {},
     "output_type": "execute_result"
    }
   ],
   "source": [
    "# Replace \"?\"\" to nan value\n",
    "numeric_cols = numeric_cols.replace(\"?\", np.nan)\n",
    "numeric_cols.head(5)"
   ]
  },
  {
   "cell_type": "code",
   "execution_count": 8,
   "metadata": {},
   "outputs": [
    {
     "data": {
      "text/plain": [
       "normalized-losses    41\n",
       "wheel-base            0\n",
       "length                0\n",
       "width                 0\n",
       "height                0\n",
       "curb-weight           0\n",
       "engine-size           0\n",
       "bore                  4\n",
       "stroke                4\n",
       "compression-rate      0\n",
       "horsepower            2\n",
       "peak-rpm              2\n",
       "city-mpg              0\n",
       "highway-mpg           0\n",
       "price                 4\n",
       "dtype: int64"
      ]
     },
     "execution_count": 8,
     "metadata": {},
     "output_type": "execute_result"
    }
   ],
   "source": [
    "# Change all str cols (which are actually numeric cols) to numeric columns\n",
    "numeric_cols = numeric_cols.astype(\"float\")\n",
    "# Determine # of NULL val\n",
    "numeric_cols.isna().sum()"
   ]
  },
  {
   "cell_type": "code",
   "execution_count": 9,
   "metadata": {},
   "outputs": [
    {
     "data": {
      "text/plain": [
       "normalized-losses    37\n",
       "wheel-base            0\n",
       "length                0\n",
       "width                 0\n",
       "height                0\n",
       "curb-weight           0\n",
       "engine-size           0\n",
       "bore                  4\n",
       "stroke                4\n",
       "compression-rate      0\n",
       "horsepower            2\n",
       "peak-rpm              2\n",
       "city-mpg              0\n",
       "highway-mpg           0\n",
       "price                 0\n",
       "dtype: int64"
      ]
     },
     "execution_count": 9,
     "metadata": {},
     "output_type": "execute_result"
    }
   ],
   "source": [
    "# Because `price` is the column we want to predict, let's remove any rows with missing `price` values.\n",
    "numeric_cols = numeric_cols.dropna(subset=['price'])\n",
    "numeric_cols.isnull().sum()"
   ]
  },
  {
   "cell_type": "markdown",
   "metadata": {},
   "source": [
    "#### (NOTE)\n",
    "- We can use **\"df.fillna(value)\"** to solve missing values problem"
   ]
  },
  {
   "cell_type": "code",
   "execution_count": 10,
   "metadata": {},
   "outputs": [],
   "source": [
    "# Fill all other missing values with mean of their columns\n",
    "numeric_cols = numeric_cols.fillna(numeric_cols.mean())"
   ]
  },
  {
   "cell_type": "code",
   "execution_count": 11,
   "metadata": {},
   "outputs": [
    {
     "data": {
      "text/plain": [
       "normalized-losses    0\n",
       "wheel-base           0\n",
       "length               0\n",
       "width                0\n",
       "height               0\n",
       "curb-weight          0\n",
       "engine-size          0\n",
       "bore                 0\n",
       "stroke               0\n",
       "compression-rate     0\n",
       "horsepower           0\n",
       "peak-rpm             0\n",
       "city-mpg             0\n",
       "highway-mpg          0\n",
       "price                0\n",
       "dtype: int64"
      ]
     },
     "execution_count": 11,
     "metadata": {},
     "output_type": "execute_result"
    }
   ],
   "source": [
    "numeric_cols.isna().sum()"
   ]
  },
  {
   "cell_type": "markdown",
   "metadata": {},
   "source": [
    "### Normalize numeric columns to range 0 to 1\n",
    "We'll normalize the numeric columns to range from 0 to 1 using **\"Feature scaling\"**\n",
    "- Link: https://en.wikipedia.org/wiki/Feature_scaling#Rescaling\n",
    "- We can use **Dataframe vectorization** to normalize all numeric columns to range 0 to 1"
   ]
  },
  {
   "cell_type": "code",
   "execution_count": 12,
   "metadata": {},
   "outputs": [],
   "source": [
    "# Normalize all columnns to range from 0 to 1 except the target column (\"price\").\n",
    "price_col = numeric_cols['price']\n",
    "numeric_cols = (numeric_cols - numeric_cols.min())/(numeric_cols.max() - numeric_cols.min())\n",
    "numeric_cols['price'] = price_col"
   ]
  },
  {
   "cell_type": "code",
   "execution_count": 13,
   "metadata": {},
   "outputs": [
    {
     "data": {
      "text/html": [
       "<div>\n",
       "<style scoped>\n",
       "    .dataframe tbody tr th:only-of-type {\n",
       "        vertical-align: middle;\n",
       "    }\n",
       "\n",
       "    .dataframe tbody tr th {\n",
       "        vertical-align: top;\n",
       "    }\n",
       "\n",
       "    .dataframe thead th {\n",
       "        text-align: right;\n",
       "    }\n",
       "</style>\n",
       "<table border=\"1\" class=\"dataframe\">\n",
       "  <thead>\n",
       "    <tr style=\"text-align: right;\">\n",
       "      <th></th>\n",
       "      <th>normalized-losses</th>\n",
       "      <th>wheel-base</th>\n",
       "      <th>length</th>\n",
       "      <th>width</th>\n",
       "      <th>height</th>\n",
       "      <th>curb-weight</th>\n",
       "      <th>engine-size</th>\n",
       "      <th>bore</th>\n",
       "      <th>stroke</th>\n",
       "      <th>compression-rate</th>\n",
       "      <th>horsepower</th>\n",
       "      <th>peak-rpm</th>\n",
       "      <th>city-mpg</th>\n",
       "      <th>highway-mpg</th>\n",
       "      <th>price</th>\n",
       "    </tr>\n",
       "  </thead>\n",
       "  <tbody>\n",
       "    <tr>\n",
       "      <th>0</th>\n",
       "      <td>0.298429</td>\n",
       "      <td>0.058309</td>\n",
       "      <td>0.413433</td>\n",
       "      <td>0.324786</td>\n",
       "      <td>0.083333</td>\n",
       "      <td>0.411171</td>\n",
       "      <td>0.260377</td>\n",
       "      <td>0.664286</td>\n",
       "      <td>0.290476</td>\n",
       "      <td>0.1250</td>\n",
       "      <td>0.294393</td>\n",
       "      <td>0.346939</td>\n",
       "      <td>0.222222</td>\n",
       "      <td>0.289474</td>\n",
       "      <td>13495.0</td>\n",
       "    </tr>\n",
       "    <tr>\n",
       "      <th>1</th>\n",
       "      <td>0.298429</td>\n",
       "      <td>0.058309</td>\n",
       "      <td>0.413433</td>\n",
       "      <td>0.324786</td>\n",
       "      <td>0.083333</td>\n",
       "      <td>0.411171</td>\n",
       "      <td>0.260377</td>\n",
       "      <td>0.664286</td>\n",
       "      <td>0.290476</td>\n",
       "      <td>0.1250</td>\n",
       "      <td>0.294393</td>\n",
       "      <td>0.346939</td>\n",
       "      <td>0.222222</td>\n",
       "      <td>0.289474</td>\n",
       "      <td>16500.0</td>\n",
       "    </tr>\n",
       "    <tr>\n",
       "      <th>2</th>\n",
       "      <td>0.298429</td>\n",
       "      <td>0.230321</td>\n",
       "      <td>0.449254</td>\n",
       "      <td>0.444444</td>\n",
       "      <td>0.383333</td>\n",
       "      <td>0.517843</td>\n",
       "      <td>0.343396</td>\n",
       "      <td>0.100000</td>\n",
       "      <td>0.666667</td>\n",
       "      <td>0.1250</td>\n",
       "      <td>0.495327</td>\n",
       "      <td>0.346939</td>\n",
       "      <td>0.166667</td>\n",
       "      <td>0.263158</td>\n",
       "      <td>16500.0</td>\n",
       "    </tr>\n",
       "    <tr>\n",
       "      <th>3</th>\n",
       "      <td>0.518325</td>\n",
       "      <td>0.384840</td>\n",
       "      <td>0.529851</td>\n",
       "      <td>0.504274</td>\n",
       "      <td>0.541667</td>\n",
       "      <td>0.329325</td>\n",
       "      <td>0.181132</td>\n",
       "      <td>0.464286</td>\n",
       "      <td>0.633333</td>\n",
       "      <td>0.1875</td>\n",
       "      <td>0.252336</td>\n",
       "      <td>0.551020</td>\n",
       "      <td>0.305556</td>\n",
       "      <td>0.368421</td>\n",
       "      <td>13950.0</td>\n",
       "    </tr>\n",
       "    <tr>\n",
       "      <th>4</th>\n",
       "      <td>0.518325</td>\n",
       "      <td>0.373178</td>\n",
       "      <td>0.529851</td>\n",
       "      <td>0.521368</td>\n",
       "      <td>0.541667</td>\n",
       "      <td>0.518231</td>\n",
       "      <td>0.283019</td>\n",
       "      <td>0.464286</td>\n",
       "      <td>0.633333</td>\n",
       "      <td>0.0625</td>\n",
       "      <td>0.313084</td>\n",
       "      <td>0.551020</td>\n",
       "      <td>0.138889</td>\n",
       "      <td>0.157895</td>\n",
       "      <td>17450.0</td>\n",
       "    </tr>\n",
       "  </tbody>\n",
       "</table>\n",
       "</div>"
      ],
      "text/plain": [
       "   normalized-losses  wheel-base    length     width    height  curb-weight  \\\n",
       "0           0.298429    0.058309  0.413433  0.324786  0.083333     0.411171   \n",
       "1           0.298429    0.058309  0.413433  0.324786  0.083333     0.411171   \n",
       "2           0.298429    0.230321  0.449254  0.444444  0.383333     0.517843   \n",
       "3           0.518325    0.384840  0.529851  0.504274  0.541667     0.329325   \n",
       "4           0.518325    0.373178  0.529851  0.521368  0.541667     0.518231   \n",
       "\n",
       "   engine-size      bore    stroke  compression-rate  horsepower  peak-rpm  \\\n",
       "0     0.260377  0.664286  0.290476            0.1250    0.294393  0.346939   \n",
       "1     0.260377  0.664286  0.290476            0.1250    0.294393  0.346939   \n",
       "2     0.343396  0.100000  0.666667            0.1250    0.495327  0.346939   \n",
       "3     0.181132  0.464286  0.633333            0.1875    0.252336  0.551020   \n",
       "4     0.283019  0.464286  0.633333            0.0625    0.313084  0.551020   \n",
       "\n",
       "   city-mpg  highway-mpg    price  \n",
       "0  0.222222     0.289474  13495.0  \n",
       "1  0.222222     0.289474  16500.0  \n",
       "2  0.166667     0.263158  16500.0  \n",
       "3  0.305556     0.368421  13950.0  \n",
       "4  0.138889     0.157895  17450.0  "
      ]
     },
     "execution_count": 13,
     "metadata": {},
     "output_type": "execute_result"
    }
   ],
   "source": [
    "numeric_cols.head(5)"
   ]
  },
  {
   "cell_type": "markdown",
   "metadata": {},
   "source": [
    "## Univariate KNN model"
   ]
  },
  {
   "cell_type": "code",
   "execution_count": 14,
   "metadata": {},
   "outputs": [],
   "source": [
    "from sklearn.neighbors import KNeighborsRegressor\n",
    "from sklearn.metrics import mean_squared_error\n",
    "import matplotlib.pyplot as plt\n",
    "%matplotlib inline"
   ]
  },
  {
   "cell_type": "markdown",
   "metadata": {},
   "source": [
    "Why KNN?\n",
    "- KNN is based on features similarity, we can use clasification using KNN classifier\n",
    "- KNN stores all available cases (train data) and classified new cases (test data) based on similarity\n",
    "<br>\n",
    "- **Link** (for understand): https://bit.ly/3skxStP"
   ]
  },
  {
   "cell_type": "markdown",
   "metadata": {},
   "source": [
    "We'll create a function, named **knn_train_test()** that encapsulates the training and simple validation process. This function should have 3 parameters -- **training column name**, **target column name**, and the **dataframe object**."
   ]
  },
  {
   "cell_type": "markdown",
   "metadata": {},
   "source": [
    "### Normal KNN model with default k value"
   ]
  },
  {
   "cell_type": "code",
   "execution_count": 15,
   "metadata": {},
   "outputs": [],
   "source": [
    "def knn_train_test(feature, target_col, df):\n",
    "    knn = KNeighborsRegressor()\n",
    "    np.random.seed(1) \n",
    "    \n",
    "    # Randomize the order of row in dataframe\n",
    "    shuffle_index = np.random.permutation(df.index)\n",
    "    rand_df = df.reindex(shuffle_index)\n",
    "    \n",
    "    # Generate training data (75%) and testing data (25%) \n",
    "    data_75_per = round(df.shape[0]*75/100)\n",
    "    train_df = rand_df.iloc[:data_75_per]\n",
    "    test_df = rand_df.iloc[data_75_per:]\n",
    "    \n",
    "    # Fit KNN model using default k value\n",
    "    knn.fit(train_df[[feature]], train_df[target_col])\n",
    "    \n",
    "    # Make prediction on testing dataset\n",
    "    predictions = knn.predict(test_df[[feature]])\n",
    "    \n",
    "    # Caculate RMSE value\n",
    "    mse = mean_squared_error(test_df[target_col], predictions)\n",
    "    rmse = np.sqrt(mse)\n",
    "    return rmse"
   ]
  },
  {
   "cell_type": "markdown",
   "metadata": {},
   "source": [
    "We'll use the function to train and test univariate models using *each different numeric column* in the data set.\n",
    "- **Features**: all the numeric columns in dataset (except \"price\" col)\n",
    "- **Target**: \"price\" column\n",
    "- **k_val**: # of closest training point values to testing point (in order to predicting)\n",
    "<br>\n",
    "\n",
    "**Return** \"rmse\" (rmse: root-mean-square-deviation) with that \"feature\" and \"k_val\""
   ]
  },
  {
   "cell_type": "code",
   "execution_count": 16,
   "metadata": {},
   "outputs": [
    {
     "data": {
      "text/plain": [
       "engine-size          3123.320055\n",
       "highway-mpg          3379.225012\n",
       "city-mpg             3720.409336\n",
       "width                3979.975162\n",
       "curb-weight          4047.052502\n",
       "wheel-base           4238.256244\n",
       "horsepower           4778.254808\n",
       "length               5500.731910\n",
       "compression-rate     6301.624923\n",
       "normalized-losses    6391.912635\n",
       "peak-rpm             6521.863038\n",
       "bore                 6807.187616\n",
       "height               6869.570863\n",
       "stroke               6973.912793\n",
       "dtype: float64"
      ]
     },
     "execution_count": 16,
     "metadata": {},
     "output_type": "execute_result"
    }
   ],
   "source": [
    "rmse_results = {}\n",
    "train_cols = numeric_cols.columns.drop('price')\n",
    "\n",
    "# For each column (minus `price`), train a model, return RMSE value\n",
    "# and add to the dictionary `rmse_results`.\n",
    "for col in train_cols:\n",
    "    rmse_val = knn_train_test(col, 'price', numeric_cols)\n",
    "    rmse_results[col] = rmse_val\n",
    "\n",
    "# Create a Series object from the dictionary so \n",
    "# we can easily view the results, sort, etc\n",
    "rmse_results_series = pd.Series(rmse_results)\n",
    "rmse_results_series.sort_values()"
   ]
  },
  {
   "cell_type": "markdown",
   "metadata": {},
   "source": [
    "- **\"rmse_results_series\"** represents all pairs of each numeric column as a feature and the value of rmse using appropriate feature column as input\n",
    "- **\"engine-size\"** is the best feature resulting the lowest value of rmse (rmse = 3123.320055)"
   ]
  },
  {
   "cell_type": "markdown",
   "metadata": {},
   "source": [
    "### KNN model with different value of k"
   ]
  },
  {
   "cell_type": "code",
   "execution_count": 17,
   "metadata": {},
   "outputs": [],
   "source": [
    "# KNN model with different value of k\n",
    "def knn_train_test(train_col, target_col, df):\n",
    "    np.random.seed(1) \n",
    "    \n",
    "    # Randomize the order of row in dataframe\n",
    "    shuffle_index = np.random.permutation(df.index)\n",
    "    rand_df = df.reindex(shuffle_index)\n",
    "    \n",
    "    # Generate training data (75%) and testing data (25%) \n",
    "    data_75_per = round(df.shape[0]*75/100)\n",
    "    train_df = rand_df.iloc[:data_75_per]\n",
    "    test_df = rand_df.iloc[data_75_per:]\n",
    "    \n",
    "    k_values = [1,3,5,7,9]\n",
    "    k_rmses = dict()\n",
    "    \n",
    "    for k in k_values:\n",
    "        # Fit model using k nearest neighbors.\n",
    "        knn = KNeighborsRegressor(n_neighbors=k)\n",
    "        knn.fit(train_df[[train_col]], train_df[target_col])\n",
    "\n",
    "        # Make predictions using model.\n",
    "        predicted_labels = knn.predict(test_df[[train_col]])\n",
    "\n",
    "        # Calculate and return RMSE.\n",
    "        mse = mean_squared_error(test_df[target_col], predicted_labels)\n",
    "        rmse = np.sqrt(mse)\n",
    "        \n",
    "        k_rmses[k] = rmse\n",
    "    return k_rmses"
   ]
  },
  {
   "cell_type": "code",
   "execution_count": 18,
   "metadata": {},
   "outputs": [
    {
     "data": {
      "text/plain": [
       "{'normalized-losses': {1: 9604.929081466453,\n",
       "  3: 7494.820436511842,\n",
       "  5: 6391.912634697067,\n",
       "  7: 6699.853883298577,\n",
       "  9: 6861.6389834002875},\n",
       " 'wheel-base': {1: 2797.4144312203725,\n",
       "  3: 3392.8627620671928,\n",
       "  5: 4238.25624378706,\n",
       "  7: 4456.687059524217,\n",
       "  9: 4426.032222634904},\n",
       " 'length': {1: 4952.798701744297,\n",
       "  3: 5403.624431188139,\n",
       "  5: 5500.731909846179,\n",
       "  7: 5103.4515274528885,\n",
       "  9: 4471.077661709427},\n",
       " 'width': {1: 2849.2691940215127,\n",
       "  3: 4076.59327053035,\n",
       "  5: 3979.9751617315405,\n",
       "  7: 3845.3326184519606,\n",
       "  9: 3687.926625900343},\n",
       " 'height': {1: 6330.178232877807,\n",
       "  3: 7049.500497198366,\n",
       "  5: 6869.570862695864,\n",
       "  7: 6738.641089739572,\n",
       "  9: 6344.062937760911},\n",
       " 'curb-weight': {1: 3950.9888180049306,\n",
       "  3: 4201.343428000144,\n",
       "  5: 4047.052502155118,\n",
       "  7: 3842.0974736649846,\n",
       "  9: 3943.9478256384205},\n",
       " 'engine-size': {1: 2853.7338453331627,\n",
       "  3: 2793.6254775629623,\n",
       "  5: 3123.320055069605,\n",
       "  7: 2941.73029681235,\n",
       "  9: 2931.996240628853},\n",
       " 'bore': {1: 8423.759328233446,\n",
       "  3: 6501.928933614838,\n",
       "  5: 6807.187615513473,\n",
       "  7: 6900.29659028346,\n",
       "  9: 7134.8868708101645},\n",
       " 'stroke': {1: 10330.231237489314,\n",
       "  3: 8947.585146097614,\n",
       "  5: 6973.912792744113,\n",
       "  7: 7266.333478250421,\n",
       "  9: 7026.017456146411},\n",
       " 'compression-rate': {1: 7016.906657495168,\n",
       "  3: 7319.354017489066,\n",
       "  5: 6301.624922763969,\n",
       "  7: 6133.006310754547,\n",
       "  9: 6417.253959732598},\n",
       " 'horsepower': {1: 3623.6389886411143,\n",
       "  3: 4294.825669466819,\n",
       "  5: 4778.254807521257,\n",
       "  7: 4730.538701514935,\n",
       "  9: 4662.8601512508885},\n",
       " 'peak-rpm': {1: 8041.2366213164005,\n",
       "  3: 7502.080095843049,\n",
       "  5: 6521.863037752326,\n",
       "  7: 6869.602542315512,\n",
       "  9: 6884.533017667794},\n",
       " 'city-mpg': {1: 4265.365592771621,\n",
       "  3: 3865.0178306330113,\n",
       "  5: 3720.409335758634,\n",
       "  7: 3819.183283405616,\n",
       "  9: 4219.677972675927},\n",
       " 'highway-mpg': {1: 4826.0580187146525,\n",
       "  3: 3510.253629329685,\n",
       "  5: 3379.2250123364083,\n",
       "  7: 4044.271135312068,\n",
       "  9: 4462.027046251678}}"
      ]
     },
     "execution_count": 18,
     "metadata": {},
     "output_type": "execute_result"
    }
   ],
   "source": [
    "k_result_value = dict()\n",
    "# Train all numeric columns except for \"price\" col, and return RMSE value\n",
    "# And add to \"k_result_value\" dictionary\n",
    "train_cols = numeric_cols.columns.drop(\"price\")\n",
    "\n",
    "for col in train_cols:\n",
    "    k_rmses = knn_train_test(col, \"price\", numeric_cols)\n",
    "    k_result_value[col] = k_rmses\n",
    "k_result_value"
   ]
  },
  {
   "cell_type": "code",
   "execution_count": 19,
   "metadata": {},
   "outputs": [
    {
     "data": {
      "text/plain": [
       "Text(0, 0.5, 'RMSE values')"
      ]
     },
     "execution_count": 19,
     "metadata": {},
     "output_type": "execute_result"
    },
    {
     "data": {
      "image/png": "[encoded data removed]",
      "text/plain": [
       "<Figure size 432x288 with 1 Axes>"
      ]
     },
     "metadata": {
      "needs_background": "light"
     },
     "output_type": "display_data"
    }
   ],
   "source": [
    "# Visualize rmse values depending on each K value\n",
    "for k,v in k_result_value.items():\n",
    "    x = list(v.keys())\n",
    "    y = list(v.values())\n",
    "    plt.plot(x,y)\n",
    "\n",
    "plt.xlabel(\"K values\")\n",
    "plt.ylabel(\"RMSE values\")"
   ]
  },
  {
   "cell_type": "markdown",
   "metadata": {},
   "source": [
    "By both following scatter plot and result above, there is a pink line on the lowest position in the plot that represent for \"engine-size\" with the smallest rmse value is 2793.625 with k=3"
   ]
  },
  {
   "cell_type": "markdown",
   "metadata": {},
   "source": [
    "## Multivariate KNN model"
   ]
  },
  {
   "cell_type": "markdown",
   "metadata": {},
   "source": [
    "- In order to determine set of best features depending on values of rmse, we'll caculate the average of all rmse value relating each \"k\" value of each features"
   ]
  },
  {
   "cell_type": "code",
   "execution_count": 20,
   "metadata": {},
   "outputs": [
    {
     "data": {
      "text/plain": [
       "engine-size          2928.881183\n",
       "width                3687.819374\n",
       "wheel-base           3862.250544\n",
       "city-mpg             3977.930803\n",
       "curb-weight          3997.086009\n",
       "highway-mpg          4044.366968\n",
       "horsepower           4418.023664\n",
       "length               5086.336846\n",
       "compression-rate     6637.629174\n",
       "height               6666.390724\n",
       "bore                 7153.611868\n",
       "peak-rpm             7163.863063\n",
       "normalized-losses    7410.631004\n",
       "stroke               8108.816022\n",
       "dtype: float64"
      ]
     },
     "execution_count": 20,
     "metadata": {},
     "output_type": "execute_result"
    }
   ],
   "source": [
    "# Compute average of rmse (of each \"k\" value) of each feature\n",
    "feature_avg_rmse = dict()\n",
    "for k,v in k_result_value.items():\n",
    "    avg_rmse = np.mean(list(v.values()))\n",
    "    feature_avg_rmse[k] = avg_rmse\n",
    "\n",
    "# Change to Series for a good view\n",
    "feature_avg_rmse = pd.Series(feature_avg_rmse)\n",
    "feature_avg_rmse.sort_values(inplace=True)\n",
    "feature_avg_rmse"
   ]
  },
  {
   "cell_type": "code",
   "execution_count": 21,
   "metadata": {},
   "outputs": [
    {
     "data": {
      "text/plain": [
       "Index(['engine-size', 'width', 'wheel-base', 'city-mpg', 'curb-weight',\n",
       "       'highway-mpg', 'horsepower', 'length', 'compression-rate', 'height',\n",
       "       'bore', 'peak-rpm', 'normalized-losses', 'stroke'],\n",
       "      dtype='object')"
      ]
     },
     "execution_count": 21,
     "metadata": {},
     "output_type": "execute_result"
    }
   ],
   "source": [
    "# Take out sets sorted features based on rmse value\n",
    "sorted_features = feature_avg_rmse.index\n",
    "sorted_features"
   ]
  },
  {
   "cell_type": "markdown",
   "metadata": {},
   "source": [
    "### Best 2, 3, 4, 5 features (with lowest rmse)¶\n",
    "- Using the best 2, 3, 4, 5, 6 features from the sorted features to train and test a multivariate k-nearest neighbors model using the average of rmse value relating to \"k\" values of each feature"
   ]
  },
  {
   "cell_type": "code",
   "execution_count": 22,
   "metadata": {},
   "outputs": [],
   "source": [
    "# KNN model with different value of k\n",
    "def knn_train_test(train_col, target_col, df):\n",
    "    np.random.seed(1) \n",
    "    \n",
    "    # Randomize the order of row in dataframe\n",
    "    shuffle_index = np.random.permutation(df.index)\n",
    "    rand_df = df.reindex(shuffle_index)\n",
    "    \n",
    "    # Generate training data (75%) and testing data (25%) \n",
    "    data_75_per = round(df.shape[0]*75/100)\n",
    "    train_df = rand_df.iloc[:data_75_per]\n",
    "    test_df = rand_df.iloc[data_75_per:]\n",
    "    \n",
    "    k_values = [1,3,5,7,9]\n",
    "    k_rmses = dict()\n",
    "    \n",
    "    for k in k_values:\n",
    "        # Fit model using k nearest neighbors.\n",
    "        knn = KNeighborsRegressor(n_neighbors=k)\n",
    "        knn.fit(train_df[train_col], train_df[target_col])\n",
    "\n",
    "        # Make predictions using model.\n",
    "        predicted_labels = knn.predict(test_df[train_col])\n",
    "\n",
    "        # Calculate and return RMSE.\n",
    "        mse = mean_squared_error(test_df[target_col], predicted_labels)\n",
    "        rmse = np.sqrt(mse)\n",
    "        \n",
    "        k_rmses[k] = rmse\n",
    "    return k_rmses"
   ]
  },
  {
   "cell_type": "markdown",
   "metadata": {},
   "source": [
    "Difference between **Multivariate** and **univariate model:**\n",
    "- *Multi*: train_df\\[train_col\\] & test_df\\[train_col\\]\n",
    "- *Uni*: train_df\\[\\[train_col\\]\\] & test_df\\[\\[train_col\\]\\]"
   ]
  },
  {
   "cell_type": "code",
   "execution_count": 23,
   "metadata": {},
   "outputs": [
    {
     "data": {
      "text/plain": [
       "{'2 best features': {1: 2006.9063256664472,\n",
       "  3: 2430.5766887716172,\n",
       "  5: 2604.113989517356,\n",
       "  7: 2765.2513287997112,\n",
       "  9: 2835.8395606640297},\n",
       " '3 best features': {1: 2083.8682012065924,\n",
       "  3: 2485.4103940127607,\n",
       "  5: 2655.767928415433,\n",
       "  7: 2664.2889504384784,\n",
       "  9: 2787.9324674322656},\n",
       " '4 best features': {1: 2399.7130453452137,\n",
       "  3: 2648.217752040459,\n",
       "  5: 2709.859768327505,\n",
       "  7: 2645.5418099442822,\n",
       "  9: 2671.742857257907},\n",
       " '5 best features': {1: 2219.383080948397,\n",
       "  3: 2506.250576724788,\n",
       "  5: 2536.558893146382,\n",
       "  7: 2622.2030114125837,\n",
       "  9: 2732.0692417070036},\n",
       " '6 best features': {1: 2133.979095492737,\n",
       "  3: 2519.3118482809723,\n",
       "  5: 2535.871781143518,\n",
       "  7: 2566.8968757260673,\n",
       "  9: 2731.981927167596}}"
      ]
     },
     "execution_count": 23,
     "metadata": {},
     "output_type": "execute_result"
    }
   ],
   "source": [
    "k_rmse_result = dict()\n",
    "\n",
    "for num_features in range(2,7):\n",
    "    k_rmse_result[\"{} best features\".format(num_features)] = knn_train_test(\n",
    "        list(sorted_features[:num_features]),\n",
    "        \"price\",\n",
    "        numeric_cols\n",
    "    )\n",
    "    \n",
    "k_rmse_result"
   ]
  },
  {
   "cell_type": "code",
   "execution_count": 24,
   "metadata": {},
   "outputs": [
    {
     "data": {
      "image/png": "[encoded data removed]",
      "text/plain": [
       "<Figure size 432x288 with 1 Axes>"
      ]
     },
     "metadata": {
      "needs_background": "light"
     },
     "output_type": "display_data"
    }
   ],
   "source": [
    "labels = list()\n",
    "\n",
    "for k,v in k_rmse_result.items():\n",
    "    x = list(v.keys())\n",
    "    y = list(v.values())\n",
    "    labels.append(k)\n",
    "    plt.plot(x,y)\n",
    "    \n",
    "plt.legend(labels)\n",
    "plt.xlabel(\"K values\")\n",
    "plt.ylabel(\"RMSE values\")\n",
    "plt.show()"
   ]
  },
  {
   "cell_type": "markdown",
   "metadata": {},
   "source": [
    "- As a result, with 2 best features (\"engine-size\",\"width\") as \"train columns\" and \"K\" value = 1, I'll get the smallest result of rmse (root mean square error) value (rmse=2006.9063)"
   ]
  },
  {
   "cell_type": "markdown",
   "metadata": {},
   "source": [
    "## Hyperparameter optimization (K values)"
   ]
  },
  {
   "cell_type": "code",
   "execution_count": 25,
   "metadata": {},
   "outputs": [],
   "source": [
    "# KNN model with different value of k\n",
    "def knn_train_test(train_col, target_col, df):\n",
    "    np.random.seed(1) \n",
    "    \n",
    "    # Randomize the order of row in dataframe\n",
    "    shuffle_index = np.random.permutation(df.index)\n",
    "    rand_df = df.reindex(shuffle_index)\n",
    "    \n",
    "    # Generate training data (75%) and testing data (25%) \n",
    "    data_75_per = round(df.shape[0]*75/100)\n",
    "    train_df = rand_df.iloc[:data_75_per]\n",
    "    test_df = rand_df.iloc[data_75_per:]\n",
    "    \n",
    "    k_values = [i for i in range(1,25)]\n",
    "    k_rmses = dict()\n",
    "    \n",
    "    for k in k_values:\n",
    "        # Fit model using k nearest neighbors.\n",
    "        knn = KNeighborsRegressor(n_neighbors=k)\n",
    "        knn.fit(train_df[train_col], train_df[target_col])\n",
    "\n",
    "        # Make predictions using model.\n",
    "        predicted_labels = knn.predict(test_df[train_col])\n",
    "\n",
    "        # Calculate and return RMSE.\n",
    "        mse = mean_squared_error(test_df[target_col], predicted_labels)\n",
    "        rmse = np.sqrt(mse)\n",
    "        \n",
    "        k_rmses[k] = rmse\n",
    "    return k_rmses"
   ]
  },
  {
   "cell_type": "code",
   "execution_count": 26,
   "metadata": {},
   "outputs": [
    {
     "data": {
      "text/plain": [
       "{'2 best features': {1: 2006.9063256664472,\n",
       "  2: 2191.1476251042513,\n",
       "  3: 2430.5766887716172,\n",
       "  4: 2488.4645366169075,\n",
       "  5: 2604.113989517356,\n",
       "  6: 2717.7121402426383,\n",
       "  7: 2765.2513287997112,\n",
       "  8: 2811.232302245316,\n",
       "  9: 2835.8395606640297,\n",
       "  10: 2909.763110942195,\n",
       "  11: 2797.8224746818214,\n",
       "  12: 2851.3148655001646,\n",
       "  13: 2860.7705935835584,\n",
       "  14: 2962.291571209212,\n",
       "  15: 3087.1958790246313,\n",
       "  16: 3193.0021128242306,\n",
       "  17: 3309.276375265335,\n",
       "  18: 3417.4366185566414,\n",
       "  19: 3495.296298577224,\n",
       "  20: 3582.8246830119947,\n",
       "  21: 3650.0765330652393,\n",
       "  22: 3718.1995655611126,\n",
       "  23: 3792.871731394677,\n",
       "  24: 3792.80917273709},\n",
       " '3 best features': {1: 2083.8682012065924,\n",
       "  2: 2573.1913327617126,\n",
       "  3: 2485.4103940127607,\n",
       "  4: 2549.838328698508,\n",
       "  5: 2655.767928415433,\n",
       "  6: 2640.4561495654075,\n",
       "  7: 2664.2889504384784,\n",
       "  8: 2743.6167829846427,\n",
       "  9: 2787.9324674322656,\n",
       "  10: 2849.0300336781293,\n",
       "  11: 2860.5184660670775,\n",
       "  12: 2977.8998098958564,\n",
       "  13: 3020.186464775285,\n",
       "  14: 3186.251602236569,\n",
       "  15: 3314.895827932523,\n",
       "  16: 3403.903781253408,\n",
       "  17: 3509.018909160264,\n",
       "  18: 3613.5338331347994,\n",
       "  19: 3619.4076833562076,\n",
       "  20: 3684.7901697450834,\n",
       "  21: 3734.950689241527,\n",
       "  22: 3800.5213227543854,\n",
       "  23: 3821.768057589489,\n",
       "  24: 3831.175321702858},\n",
       " '4 best features': {1: 2399.7130453452137,\n",
       "  2: 2682.660290644345,\n",
       "  3: 2648.217752040459,\n",
       "  4: 2655.3941837795005,\n",
       "  5: 2709.859768327505,\n",
       "  6: 2652.302874547576,\n",
       "  7: 2645.5418099442822,\n",
       "  8: 2675.7526410222413,\n",
       "  9: 2671.742857257907,\n",
       "  10: 2740.0796456672574,\n",
       "  11: 2679.851012387637,\n",
       "  12: 2684.5583810211897,\n",
       "  13: 2765.0234325167776,\n",
       "  14: 2956.138246384072,\n",
       "  15: 3049.346852542543,\n",
       "  16: 3160.1287580448165,\n",
       "  17: 3233.6295293171684,\n",
       "  18: 3294.060104777824,\n",
       "  19: 3355.0105557256406,\n",
       "  20: 3400.2689164094068,\n",
       "  21: 3458.339517214371,\n",
       "  22: 3506.629830274397,\n",
       "  23: 3542.3515711474183,\n",
       "  24: 3611.6089708656864},\n",
       " '5 best features': {1: 2219.383080948397,\n",
       "  2: 2514.4711282892076,\n",
       "  3: 2506.250576724788,\n",
       "  4: 2583.4849138324766,\n",
       "  5: 2536.558893146382,\n",
       "  6: 2582.73640555043,\n",
       "  7: 2622.2030114125837,\n",
       "  8: 2758.691341809554,\n",
       "  9: 2732.0692417070036,\n",
       "  10: 2800.5032069969143,\n",
       "  11: 2766.1187863738933,\n",
       "  12: 2817.2475789766863,\n",
       "  13: 2846.679438829673,\n",
       "  14: 2911.870532205464,\n",
       "  15: 3062.054724295074,\n",
       "  16: 3130.299945904246,\n",
       "  17: 3193.2237061268106,\n",
       "  18: 3272.1815606415344,\n",
       "  19: 3302.602206680039,\n",
       "  20: 3347.1360661466992,\n",
       "  21: 3417.2770087870517,\n",
       "  22: 3453.4092901373,\n",
       "  23: 3524.4474057044113,\n",
       "  24: 3579.3198060952245},\n",
       " '6 best features': {1: 2133.979095492737,\n",
       "  2: 2457.319993407452,\n",
       "  3: 2519.3118482809723,\n",
       "  4: 2463.6827438816063,\n",
       "  5: 2535.871781143518,\n",
       "  6: 2556.1555067022905,\n",
       "  7: 2566.8968757260673,\n",
       "  8: 2640.112041419833,\n",
       "  9: 2731.981927167596,\n",
       "  10: 2754.206063387415,\n",
       "  11: 2750.746278964978,\n",
       "  12: 2857.293341657062,\n",
       "  13: 2804.927150041766,\n",
       "  14: 2877.848679897495,\n",
       "  15: 3021.3550305340373,\n",
       "  16: 3159.251540762859,\n",
       "  17: 3255.6435963364884,\n",
       "  18: 3273.133937334125,\n",
       "  19: 3328.749120054849,\n",
       "  20: 3418.266010911088,\n",
       "  21: 3478.5981894606366,\n",
       "  22: 3528.3722163202715,\n",
       "  23: 3623.3687539561242,\n",
       "  24: 3650.5369064396236}}"
      ]
     },
     "execution_count": 26,
     "metadata": {},
     "output_type": "execute_result"
    }
   ],
   "source": [
    "k_rmse_result = dict()\n",
    "\n",
    "for num_features in range(2,7):\n",
    "    k_rmse_result[\"{} best features\".format(num_features)] = knn_train_test(\n",
    "        list(sorted_features[:num_features]),\n",
    "        \"price\",\n",
    "        numeric_cols\n",
    "    )\n",
    "    \n",
    "k_rmse_result"
   ]
  },
  {
   "cell_type": "code",
   "execution_count": 27,
   "metadata": {},
   "outputs": [
    {
     "data": {
      "image/png": "[encoded data removed]",
      "text/plain": [
       "<Figure size 432x288 with 1 Axes>"
      ]
     },
     "metadata": {
      "needs_background": "light"
     },
     "output_type": "display_data"
    }
   ],
   "source": [
    "labels = list()\n",
    "\n",
    "for k,v in k_rmse_result.items():\n",
    "    x = list(v.keys())\n",
    "    y = list(v.values())\n",
    "    labels.append(k)\n",
    "    plt.plot(x,y)\n",
    "    \n",
    "plt.legend(labels)\n",
    "plt.xlabel(\"K values\")\n",
    "plt.ylabel(\"RMSE values\")\n",
    "plt.show()"
   ]
  },
  {
   "cell_type": "markdown",
   "metadata": {},
   "source": [
    "### Result\n",
    "The possible **most efficient** set of result is:\n",
    "- Train features: \\['engine-size', 'width'\\]\n",
    "- K = 1, rmse = 2006.9063"
   ]
  },
  {
   "cell_type": "markdown",
   "metadata": {
    "collapsed": true
   },
   "source": [
    "## K-fold cross-validation"
   ]
  },
  {
   "cell_type": "markdown",
   "metadata": {},
   "source": [
    "**K-fold cross-validation** includes:\n",
    "1. Splitting the full data set into **\"k\"** equal length partitions:\n",
    "<br>\n",
    "+) Selecting k-1 partitions as the training set.\n",
    "<br>\n",
    "+) Selecting the remaining partition as the test set\n",
    "2. Training the model on the training set.\n",
    "3. Using the trained model to predict labels on the test fold.\n",
    "4. Computing the test fold's error metric\n",
    "5. Repeating all of the above steps k-1 times, until each partition has been used as the test set\n",
    "for an iteration\n",
    "6. Calculating the mean of the k error values"
   ]
  },
  {
   "cell_type": "markdown",
   "metadata": {},
   "source": [
    "**Purpose:**\n",
    "- Bias describes rmses which is \"root mean square error\" between predicted values and true values.\n",
    "- Variance is the variability of list of rmses values\n",
    "- I need low bias and low variance when creating machine learning models"
   ]
  },
  {
   "cell_type": "code",
   "execution_count": 28,
   "metadata": {},
   "outputs": [],
   "source": [
    "from sklearn.model_selection import cross_val_score, KFold"
   ]
  },
  {
   "cell_type": "code",
   "execution_count": 42,
   "metadata": {},
   "outputs": [],
   "source": [
    "# \"train_col\": must be list of features columns (>1 columns)\n",
    "def K_fold_cross_validation(train_col, target_col, df, fold):\n",
    "    # \"fold\": number of splitting part\n",
    "    # \"random_state\": specify random seed when \"shuffle\"=True\n",
    "    kf = KFold(fold, shuffle=True, random_state=1)\n",
    "    knn = KNeighborsRegressor(n_neighbors=1) # Using most efficient K value\n",
    "    \n",
    "    # cross_val_score() perfrom K-fold cross-validation (K: # of parts by splitting data)\n",
    "    # cross_val_score() return list of mses in which each mse value related to the ith part of data\n",
    "    # being considereK d as test part \n",
    "    mses = cross_val_score(knn, df[train_col], df[target_col],\n",
    "                          scoring=\"neg_mean_squared_error\", cv=kf)\n",
    "    rmses = np.sqrt(np.absolute(mses))\n",
    "    \n",
    "    # Avg list of rmse\n",
    "    rmses_avg = np.mean(rmses)\n",
    "    # Standard deviation of list of rmses\n",
    "    rmses_std = np.std(rmses)\n",
    "    return (rmses_avg, rmses_std)"
   ]
  },
  {
   "cell_type": "markdown",
   "metadata": {},
   "source": [
    "Function **K_fold_cross_validation()**:\n",
    "- **Input**: train_col(features), target_col, df, fold(# of splitting parts)\n",
    "- **Output**: rmses_avg (Average of list of rmses values), rmses_std (standard deviation of this list)"
   ]
  },
  {
   "cell_type": "code",
   "execution_count": 43,
   "metadata": {},
   "outputs": [
    {
     "name": "stdout",
     "output_type": "stream",
     "text": [
      "3 fold -> rmses_avg: 3165.3223577307704 & rmses_std: 168.22910967267774\n",
      "5 fold -> rmses_avg: 2686.7738182068238 & rmses_std: 457.689792079675\n",
      "7 fold -> rmses_avg: 2599.552574708211 & rmses_std: 457.45039301199125\n",
      "9 fold -> rmses_avg: 2479.2289853909206 & rmses_std: 627.9992717325268\n",
      "11 fold -> rmses_avg: 2592.909698821419 & rmses_std: 762.7274066061341\n",
      "13 fold -> rmses_avg: 2687.856005136514 & rmses_std: 630.8264792584649\n",
      "15 fold -> rmses_avg: 2558.537841900929 & rmses_std: 760.8937904063116\n",
      "17 fold -> rmses_avg: 2546.14439290691 & rmses_std: 740.9702518113755\n",
      "19 fold -> rmses_avg: 2611.5488158020116 & rmses_std: 826.9568703736779\n",
      "21 fold -> rmses_avg: 2556.8595548707494 & rmses_std: 867.6311914581117\n",
      "23 fold -> rmses_avg: 2472.523551627956 & rmses_std: 946.0574562668604\n"
     ]
    }
   ],
   "source": [
    "# Generate list of folds\n",
    "num_folds = [i for i in range(3,25,2)]\n",
    "rmses_avgs = list()\n",
    "rmses_stds = list()\n",
    "\n",
    "for fold in num_folds:\n",
    "    rmses_avg, rmses_std = K_fold_cross_validation(\n",
    "        [\"engine-size\", \"width\"], # Using most efficient features above\n",
    "        \"price\",\n",
    "        numeric_cols,\n",
    "        fold\n",
    "        )\n",
    "    rmses_avgs.append(rmses_avg)\n",
    "    rmses_stds.append(rmses_avg)\n",
    "    print(\"{} fold -> rmses_avg: {} & rmses_std: {}\".format(fold, rmses_avg, rmses_std))"
   ]
  },
  {
   "cell_type": "markdown",
   "metadata": {},
   "source": [
    "With 9 folds, I've got\n",
    "- rmses_avg = 2479.2289 (Average value of list of rmse values)\n",
    "- rmses_std = 627.9992 (standard deviation value of list of rmse values)\n",
    "<br>\n",
    "\n",
    "--> **9 folds** is the most efficient number of folds values"
   ]
  },
  {
   "cell_type": "code",
   "execution_count": 48,
   "metadata": {},
   "outputs": [],
   "source": [
    "# \"train_col\": must be list of features columns (>1 columns)\n",
    "def K_fold_cross_validation(train_col, target_col, df, fold):\n",
    "    # \"fold\": number of splitting part\n",
    "    # \"random_state\": specify random seed when \"shuffle\"=True\n",
    "    kf = KFold(fold, shuffle=True, random_state=1)\n",
    "    knn = KNeighborsRegressor(n_neighbors=1) # Using most efficient K value\n",
    "    \n",
    "    # cross_val_score() perfrom K-fold cross-validation (K: # of parts by splitting data)\n",
    "    # cross_val_score() return list of mses in which each mse value related to the ith part of data\n",
    "    # being considereK d as test part \n",
    "    mses = cross_val_score(knn, df[train_col], df[target_col],\n",
    "                          scoring=\"neg_mean_squared_error\", cv=kf)\n",
    "    \n",
    "    return np.sqrt(np.absolute(mses))"
   ]
  },
  {
   "cell_type": "code",
   "execution_count": 55,
   "metadata": {},
   "outputs": [
    {
     "data": {
      "text/plain": [
       "1    1282.805960\n",
       "2    3355.818361\n",
       "3    2501.961118\n",
       "4    3118.258663\n",
       "5    2651.669620\n",
       "6    2109.706324\n",
       "7    3090.029545\n",
       "8    2342.106744\n",
       "9    1860.704534\n",
       "dtype: float64"
      ]
     },
     "execution_count": 55,
     "metadata": {},
     "output_type": "execute_result"
    }
   ],
   "source": [
    "rmses = K_fold_cross_validation(\n",
    "    [\"engine-size\", \"width\"], # Using most efficient features above\n",
    "    \"price\",\n",
    "    numeric_cols,\n",
    "    fold=9\n",
    "    )\n",
    "# Transform to Series for easy view\n",
    "rmses = pd.Series(rmses, index=range(1,10))\n",
    "rmses"
   ]
  },
  {
   "cell_type": "code",
   "execution_count": 58,
   "metadata": {},
   "outputs": [
    {
     "data": {
      "text/plain": [
       "RangeIndex(start=1, stop=10, step=1)"
      ]
     },
     "execution_count": 58,
     "metadata": {},
     "output_type": "execute_result"
    }
   ],
   "source": [
    "rmses.index "
   ]
  },
  {
   "cell_type": "code",
   "execution_count": 68,
   "metadata": {},
   "outputs": [
    {
     "name": "stderr",
     "output_type": "stream",
     "text": [
      "<ipython-input-68-e62d4c1587ea>:18: UserWarning: Matplotlib is currently using module://ipykernel.pylab.backend_inline, which is a non-GUI backend, so cannot show the figure.\n",
      "  fig.show()\n"
     ]
    },
    {
     "data": {
      "image/png": "[encoded data removed]",
      "text/plain": [
       "<Figure size 432x288 with 1 Axes>"
      ]
     },
     "metadata": {
      "needs_background": "light"
     },
     "output_type": "display_data"
    }
   ],
   "source": [
    "# Visualize rmses values with 9 folds\n",
    "fig,ax = plt.subplots()\n",
    "# Sketching the bar plot\n",
    "ax.bar(x=list(rmses.index), height=rmses)\n",
    "\n",
    "# Set the label for the plot\n",
    "ax.set_xlabel(\"Position of testing part\")\n",
    "ax.set_ylabel(\"RMSE value\")\n",
    "ax.set_title(\"RMSE values depends on position of testing part in dataset\")\n",
    "\n",
    "# Turn off the top and right lines\n",
    "ax.spines['top'].set_visible(False)\n",
    "ax.spines['right'].set_visible(False)\n",
    "\n",
    "# Set xtick\n",
    "ax.set_xticks(rmses.index)\n",
    "\n",
    "fig.show()"
   ]
  },
  {
   "cell_type": "markdown",
   "metadata": {},
   "source": [
    "### Result\n",
    "With most efficient of fold (9 folds), K values (K=1), features (\\[\"engine-size\", \"width\"\\]):\n",
    "- The smallest value that we got is **rmse = 1282.8059**\n",
    "- When we devide data into 9 same-sized parts (after shuffle all observations), and choose 1st part as testing set, the remaining data are training set "
   ]
  }
 ],
 "metadata": {
  "kernelspec": {
   "display_name": "Python 3",
   "language": "python",
   "name": "python3"
  },
  "language_info": {
   "codemirror_mode": {
    "name": "ipython",
    "version": 3
   },
   "file_extension": ".py",
   "mimetype": "text/x-python",
   "name": "python",
   "nbconvert_exporter": "python",
   "pygments_lexer": "ipython3",
   "version": "3.8.3"
  },
  "toc": {
   "base_numbering": 1,
   "nav_menu": {},
   "number_sections": true,
   "sideBar": true,
   "skip_h1_title": false,
   "title_cell": "Table of Contents",
   "title_sidebar": "Contents",
   "toc_cell": false,
   "toc_position": {},
   "toc_section_display": true,
   "toc_window_display": false
  }
 },
 "nbformat": 4,
 "nbformat_minor": 2
}
